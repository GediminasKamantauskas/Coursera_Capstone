{
    "cells": [
        {
            "cell_type": "markdown",
            "metadata": {
                "collapsed": true
            },
            "source": "# Introduction/Business Problem"
        },
        {
            "cell_type": "markdown",
            "metadata": {},
            "source": "New York City's demographics show that it is a large and ethnically diverse metropolis, since many people from different cultural atmospheres have brought their families and dreams here, calling it home. It has been a center for trade and economic growth and it is the largest city in the United States. Over the last decade the city has been growing faster than the region. Throughout its history, New York City has been a major point of entry for immigrants; the term \"melting pot\" was coined to describe densely populated immigrant neighborhoods on the Lower East Side. And with it's diverse culture , comes diverse food items. There are many restaurants in New York City, each beloning to different categories like Chinese, Italian, French etc.\n\nSo as part of this project , we will list and visualize all major parts of New York City that has great Italian restaurants.  \nAdditionally, we will attempt to answer the questions:\n- Where should we open an Italian restaurant to have the best chance of being successful?\n- Where should we go in New York City if we want great Italian food?\n    \nWhat are all the factors we have to take into account:\n- Competition in particular location\n- Population\n- Venue rating, tips, and likes  \n\nFinally, who would be interested in this project:\n- An investor, who wants to open a new Italian restaurant, or a food chain owner, who wants to expand his business in the great city of New York\n- Regular turist, who wants a great Italian meal while visiting New York City"
        }
    ],
    "metadata": {
        "kernelspec": {
            "display_name": "Python 3.6",
            "language": "python",
            "name": "python3"
        },
        "language_info": {
            "codemirror_mode": {
                "name": "ipython",
                "version": 3
            },
            "file_extension": ".py",
            "mimetype": "text/x-python",
            "name": "python",
            "nbconvert_exporter": "python",
            "pygments_lexer": "ipython3",
            "version": "3.6.9"
        }
    },
    "nbformat": 4,
    "nbformat_minor": 1
}