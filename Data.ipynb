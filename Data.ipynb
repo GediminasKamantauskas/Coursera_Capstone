{
    "cells": [
        {
            "cell_type": "markdown",
            "metadata": {
                "collapsed": true
            },
            "source": "# Data"
        },
        {
            "cell_type": "markdown",
            "metadata": {},
            "source": "In order to answer Project questions, data on New York City neighborhoods, boroughs to include boundaries, latitude, longitude, restaurants, and restaurant ratings, likes and tips are required: \n- New York Population Data which will be used to get to know about the population acroos the boroughs  \ndata source: https://en.wikipedia.org/wiki/New_York_City  \n- New York Neighborhood Data which will be used to get to know about the various neighborhoods and boroughs, latitudes, and longitudes  \ndata source: https://cocl.us/new_york_dataset  \n- Geo-spacial data of the New York to get a better understanding of the neighborhoods in it and their corresponding locations in the Folium map  \ndata source: https://data.cityofnewyork.us/City-Government/Borough-Boundaries/tqmj-j8zm  \n- All data related to locations and quality of Italian restaurants will be obtained via the FourSquare API utilized via the Request library in Python  \ndata source: https://foursquare.com/"
        },
        {
            "cell_type": "code",
            "execution_count": null,
            "metadata": {},
            "outputs": [],
            "source": ""
        }
    ],
    "metadata": {
        "kernelspec": {
            "display_name": "Python 3.6",
            "language": "python",
            "name": "python3"
        },
        "language_info": {
            "codemirror_mode": {
                "name": "ipython",
                "version": 3
            },
            "file_extension": ".py",
            "mimetype": "text/x-python",
            "name": "python",
            "nbconvert_exporter": "python",
            "pygments_lexer": "ipython3",
            "version": "3.6.9"
        }
    },
    "nbformat": 4,
    "nbformat_minor": 1
}